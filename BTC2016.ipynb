{
 "cells": [
  {
   "cell_type": "code",
   "execution_count": 568,
   "metadata": {},
   "outputs": [],
   "source": [
    "import pandas as pd\n",
    "from pandas import read_csv \n",
    "import numpy as np\n",
    "import datetime\n",
    "import csv\n",
    "from operator import itemgetter\n",
    "import networkx as nx\n",
    "from networkx.algorithms import community\n",
    "import matplotlib.pyplot as plt\n",
    "import matplotlib.patches as mpatches\n",
    "import math\n",
    "import collections"
   ]
  },
  {
   "cell_type": "code",
   "execution_count": 569,
   "metadata": {},
   "outputs": [],
   "source": [
    "dataset=read_csv('soc-sign-bitcoinotc.csv',header=None, names=[\"source\", \"target\", \"rating\",\"time\"])"
   ]
  },
  {
   "cell_type": "code",
   "execution_count": 570,
   "metadata": {},
   "outputs": [
    {
     "name": "stdout",
     "output_type": "stream",
     "text": [
      "   source  target  rating          time\n",
      "0       6       2       4  1.289242e+09\n",
      "1       6       5       2  1.289242e+09\n",
      "2       1      15       1  1.289243e+09\n",
      "3       4       3       7  1.289245e+09\n",
      "4      13      16       8  1.289254e+09\n",
      "(35592, 4)\n"
     ]
    }
   ],
   "source": [
    "print(dataset.head(5))\n",
    "print(dataset.shape)"
   ]
  },
  {
   "cell_type": "code",
   "execution_count": 571,
   "metadata": {},
   "outputs": [],
   "source": [
    "# arrtime=[]\n",
    "# for a in dataset.iloc[:,-1]:\n",
    "#     arrtime.append(datetime.datetime.fromtimestamp(a))"
   ]
  },
  {
   "cell_type": "code",
   "execution_count": 572,
   "metadata": {},
   "outputs": [],
   "source": [
    "# dataset.drop('time', inplace=True, axis=1)    \n",
    "# dataset.insert(3, \"time\", arrtime, True)\n",
    "# print(dataset.head(5))"
   ]
  },
  {
   "cell_type": "code",
   "execution_count": 573,
   "metadata": {},
   "outputs": [
    {
     "data": {
      "text/html": [
       "<div>\n",
       "<style scoped>\n",
       "    .dataframe tbody tr th:only-of-type {\n",
       "        vertical-align: middle;\n",
       "    }\n",
       "\n",
       "    .dataframe tbody tr th {\n",
       "        vertical-align: top;\n",
       "    }\n",
       "\n",
       "    .dataframe thead th {\n",
       "        text-align: right;\n",
       "    }\n",
       "</style>\n",
       "<table border=\"1\" class=\"dataframe\">\n",
       "  <thead>\n",
       "    <tr style=\"text-align: right;\">\n",
       "      <th></th>\n",
       "      <th>source</th>\n",
       "      <th>target</th>\n",
       "      <th>rating</th>\n",
       "      <th>time</th>\n",
       "    </tr>\n",
       "  </thead>\n",
       "  <tbody>\n",
       "    <tr>\n",
       "      <th>0</th>\n",
       "      <td>6</td>\n",
       "      <td>2</td>\n",
       "      <td>4</td>\n",
       "      <td>1.289242e+09</td>\n",
       "    </tr>\n",
       "    <tr>\n",
       "      <th>1</th>\n",
       "      <td>6</td>\n",
       "      <td>5</td>\n",
       "      <td>2</td>\n",
       "      <td>1.289242e+09</td>\n",
       "    </tr>\n",
       "    <tr>\n",
       "      <th>2</th>\n",
       "      <td>1</td>\n",
       "      <td>15</td>\n",
       "      <td>1</td>\n",
       "      <td>1.289243e+09</td>\n",
       "    </tr>\n",
       "    <tr>\n",
       "      <th>3</th>\n",
       "      <td>4</td>\n",
       "      <td>3</td>\n",
       "      <td>7</td>\n",
       "      <td>1.289245e+09</td>\n",
       "    </tr>\n",
       "    <tr>\n",
       "      <th>4</th>\n",
       "      <td>13</td>\n",
       "      <td>16</td>\n",
       "      <td>8</td>\n",
       "      <td>1.289254e+09</td>\n",
       "    </tr>\n",
       "  </tbody>\n",
       "</table>\n",
       "</div>"
      ],
      "text/plain": [
       "   source  target  rating          time\n",
       "0       6       2       4  1.289242e+09\n",
       "1       6       5       2  1.289242e+09\n",
       "2       1      15       1  1.289243e+09\n",
       "3       4       3       7  1.289245e+09\n",
       "4      13      16       8  1.289254e+09"
      ]
     },
     "execution_count": 573,
     "metadata": {},
     "output_type": "execute_result"
    }
   ],
   "source": [
    "dataset.loc[pd.DataFrame(np.sort(dataset[['source','target']],1),index=dataset.index).drop_duplicates(keep='first').index]\n",
    "dataset.head(5)"
   ]
  },
  {
   "cell_type": "code",
   "execution_count": 574,
   "metadata": {},
   "outputs": [
    {
     "data": {
      "text/plain": [
       "(35592, 3)"
      ]
     },
     "execution_count": 574,
     "metadata": {},
     "output_type": "execute_result"
    }
   ],
   "source": [
    "dataset['time'] = pd.to_datetime(dataset.time * 1e9)\n",
    "dataset = dataset.set_index('time')\n",
    "dataset.shape"
   ]
  },
  {
   "cell_type": "code",
   "execution_count": 575,
   "metadata": {},
   "outputs": [
    {
     "data": {
      "text/html": [
       "<div>\n",
       "<style scoped>\n",
       "    .dataframe tbody tr th:only-of-type {\n",
       "        vertical-align: middle;\n",
       "    }\n",
       "\n",
       "    .dataframe tbody tr th {\n",
       "        vertical-align: top;\n",
       "    }\n",
       "\n",
       "    .dataframe thead th {\n",
       "        text-align: right;\n",
       "    }\n",
       "</style>\n",
       "<table border=\"1\" class=\"dataframe\">\n",
       "  <thead>\n",
       "    <tr style=\"text-align: right;\">\n",
       "      <th></th>\n",
       "      <th>source</th>\n",
       "      <th>target</th>\n",
       "      <th>rating</th>\n",
       "    </tr>\n",
       "    <tr>\n",
       "      <th>time</th>\n",
       "      <th></th>\n",
       "      <th></th>\n",
       "      <th></th>\n",
       "    </tr>\n",
       "  </thead>\n",
       "  <tbody>\n",
       "    <tr>\n",
       "      <th>2016-01-24 05:14:41.647290112</th>\n",
       "      <td>4499</td>\n",
       "      <td>1810</td>\n",
       "      <td>1</td>\n",
       "    </tr>\n",
       "    <tr>\n",
       "      <th>2016-01-24 23:50:28.049489920</th>\n",
       "      <td>2731</td>\n",
       "      <td>3901</td>\n",
       "      <td>5</td>\n",
       "    </tr>\n",
       "    <tr>\n",
       "      <th>2016-01-24 23:50:34.034019840</th>\n",
       "      <td>2731</td>\n",
       "      <td>4897</td>\n",
       "      <td>5</td>\n",
       "    </tr>\n",
       "    <tr>\n",
       "      <th>2016-01-24 23:53:52.985709824</th>\n",
       "      <td>13</td>\n",
       "      <td>1128</td>\n",
       "      <td>1</td>\n",
       "    </tr>\n",
       "    <tr>\n",
       "      <th>2016-01-25 01:12:03.757280000</th>\n",
       "      <td>1128</td>\n",
       "      <td>13</td>\n",
       "      <td>2</td>\n",
       "    </tr>\n",
       "  </tbody>\n",
       "</table>\n",
       "</div>"
      ],
      "text/plain": [
       "                               source  target  rating\n",
       "time                                                 \n",
       "2016-01-24 05:14:41.647290112    4499    1810       1\n",
       "2016-01-24 23:50:28.049489920    2731    3901       5\n",
       "2016-01-24 23:50:34.034019840    2731    4897       5\n",
       "2016-01-24 23:53:52.985709824      13    1128       1\n",
       "2016-01-25 01:12:03.757280000    1128      13       2"
      ]
     },
     "execution_count": 575,
     "metadata": {},
     "output_type": "execute_result"
    }
   ],
   "source": [
    "dataset.tail(5)"
   ]
  },
  {
   "cell_type": "code",
   "execution_count": 576,
   "metadata": {},
   "outputs": [
    {
     "data": {
      "text/html": [
       "<div>\n",
       "<style scoped>\n",
       "    .dataframe tbody tr th:only-of-type {\n",
       "        vertical-align: middle;\n",
       "    }\n",
       "\n",
       "    .dataframe tbody tr th {\n",
       "        vertical-align: top;\n",
       "    }\n",
       "\n",
       "    .dataframe thead th {\n",
       "        text-align: right;\n",
       "    }\n",
       "</style>\n",
       "<table border=\"1\" class=\"dataframe\">\n",
       "  <thead>\n",
       "    <tr style=\"text-align: right;\">\n",
       "      <th>rating</th>\n",
       "      <th>-10</th>\n",
       "      <th>-9</th>\n",
       "      <th>-8</th>\n",
       "      <th>-7</th>\n",
       "      <th>-6</th>\n",
       "      <th>-5</th>\n",
       "      <th>-4</th>\n",
       "      <th>-3</th>\n",
       "      <th>-2</th>\n",
       "      <th>-1</th>\n",
       "      <th>1</th>\n",
       "      <th>2</th>\n",
       "      <th>3</th>\n",
       "      <th>4</th>\n",
       "      <th>5</th>\n",
       "      <th>6</th>\n",
       "      <th>7</th>\n",
       "      <th>8</th>\n",
       "      <th>9</th>\n",
       "      <th>10</th>\n",
       "    </tr>\n",
       "    <tr>\n",
       "      <th>time</th>\n",
       "      <th></th>\n",
       "      <th></th>\n",
       "      <th></th>\n",
       "      <th></th>\n",
       "      <th></th>\n",
       "      <th></th>\n",
       "      <th></th>\n",
       "      <th></th>\n",
       "      <th></th>\n",
       "      <th></th>\n",
       "      <th></th>\n",
       "      <th></th>\n",
       "      <th></th>\n",
       "      <th></th>\n",
       "      <th></th>\n",
       "      <th></th>\n",
       "      <th></th>\n",
       "      <th></th>\n",
       "      <th></th>\n",
       "      <th></th>\n",
       "    </tr>\n",
       "  </thead>\n",
       "  <tbody>\n",
       "    <tr>\n",
       "      <th>2015-07-31</th>\n",
       "      <td>1.0</td>\n",
       "      <td>NaN</td>\n",
       "      <td>NaN</td>\n",
       "      <td>NaN</td>\n",
       "      <td>NaN</td>\n",
       "      <td>NaN</td>\n",
       "      <td>NaN</td>\n",
       "      <td>NaN</td>\n",
       "      <td>NaN</td>\n",
       "      <td>NaN</td>\n",
       "      <td>44.0</td>\n",
       "      <td>10.0</td>\n",
       "      <td>4.0</td>\n",
       "      <td>NaN</td>\n",
       "      <td>4.0</td>\n",
       "      <td>NaN</td>\n",
       "      <td>NaN</td>\n",
       "      <td>NaN</td>\n",
       "      <td>NaN</td>\n",
       "      <td>2.0</td>\n",
       "    </tr>\n",
       "    <tr>\n",
       "      <th>2016-01-31</th>\n",
       "      <td>1.0</td>\n",
       "      <td>NaN</td>\n",
       "      <td>NaN</td>\n",
       "      <td>NaN</td>\n",
       "      <td>NaN</td>\n",
       "      <td>NaN</td>\n",
       "      <td>NaN</td>\n",
       "      <td>NaN</td>\n",
       "      <td>NaN</td>\n",
       "      <td>1.0</td>\n",
       "      <td>17.0</td>\n",
       "      <td>13.0</td>\n",
       "      <td>NaN</td>\n",
       "      <td>4.0</td>\n",
       "      <td>4.0</td>\n",
       "      <td>1.0</td>\n",
       "      <td>1.0</td>\n",
       "      <td>NaN</td>\n",
       "      <td>NaN</td>\n",
       "      <td>NaN</td>\n",
       "    </tr>\n",
       "    <tr>\n",
       "      <th>2013-08-31</th>\n",
       "      <td>678.0</td>\n",
       "      <td>NaN</td>\n",
       "      <td>1.0</td>\n",
       "      <td>NaN</td>\n",
       "      <td>NaN</td>\n",
       "      <td>6.0</td>\n",
       "      <td>2.0</td>\n",
       "      <td>1.0</td>\n",
       "      <td>1.0</td>\n",
       "      <td>8.0</td>\n",
       "      <td>886.0</td>\n",
       "      <td>163.0</td>\n",
       "      <td>63.0</td>\n",
       "      <td>31.0</td>\n",
       "      <td>33.0</td>\n",
       "      <td>11.0</td>\n",
       "      <td>4.0</td>\n",
       "      <td>5.0</td>\n",
       "      <td>1.0</td>\n",
       "      <td>40.0</td>\n",
       "    </tr>\n",
       "    <tr>\n",
       "      <th>2010-11-30</th>\n",
       "      <td>NaN</td>\n",
       "      <td>NaN</td>\n",
       "      <td>NaN</td>\n",
       "      <td>NaN</td>\n",
       "      <td>NaN</td>\n",
       "      <td>NaN</td>\n",
       "      <td>NaN</td>\n",
       "      <td>NaN</td>\n",
       "      <td>NaN</td>\n",
       "      <td>NaN</td>\n",
       "      <td>21.0</td>\n",
       "      <td>10.0</td>\n",
       "      <td>5.0</td>\n",
       "      <td>2.0</td>\n",
       "      <td>7.0</td>\n",
       "      <td>NaN</td>\n",
       "      <td>5.0</td>\n",
       "      <td>7.0</td>\n",
       "      <td>2.0</td>\n",
       "      <td>1.0</td>\n",
       "    </tr>\n",
       "    <tr>\n",
       "      <th>2012-11-30</th>\n",
       "      <td>30.0</td>\n",
       "      <td>1.0</td>\n",
       "      <td>NaN</td>\n",
       "      <td>NaN</td>\n",
       "      <td>NaN</td>\n",
       "      <td>10.0</td>\n",
       "      <td>3.0</td>\n",
       "      <td>3.0</td>\n",
       "      <td>1.0</td>\n",
       "      <td>77.0</td>\n",
       "      <td>589.0</td>\n",
       "      <td>144.0</td>\n",
       "      <td>65.0</td>\n",
       "      <td>13.0</td>\n",
       "      <td>23.0</td>\n",
       "      <td>1.0</td>\n",
       "      <td>3.0</td>\n",
       "      <td>6.0</td>\n",
       "      <td>3.0</td>\n",
       "      <td>19.0</td>\n",
       "    </tr>\n",
       "  </tbody>\n",
       "</table>\n",
       "</div>"
      ],
      "text/plain": [
       "rating        -10  -9   -8   -7   -6    -5   -4   -3   -2    -1      1   \\\n",
       "time                                                                      \n",
       "2015-07-31    1.0  NaN  NaN  NaN  NaN   NaN  NaN  NaN  NaN   NaN   44.0   \n",
       "2016-01-31    1.0  NaN  NaN  NaN  NaN   NaN  NaN  NaN  NaN   1.0   17.0   \n",
       "2013-08-31  678.0  NaN  1.0  NaN  NaN   6.0  2.0  1.0  1.0   8.0  886.0   \n",
       "2010-11-30    NaN  NaN  NaN  NaN  NaN   NaN  NaN  NaN  NaN   NaN   21.0   \n",
       "2012-11-30   30.0  1.0  NaN  NaN  NaN  10.0  3.0  3.0  1.0  77.0  589.0   \n",
       "\n",
       "rating         2     3     4     5     6    7    8    9     10  \n",
       "time                                                            \n",
       "2015-07-31   10.0   4.0   NaN   4.0   NaN  NaN  NaN  NaN   2.0  \n",
       "2016-01-31   13.0   NaN   4.0   4.0   1.0  1.0  NaN  NaN   NaN  \n",
       "2013-08-31  163.0  63.0  31.0  33.0  11.0  4.0  5.0  1.0  40.0  \n",
       "2010-11-30   10.0   5.0   2.0   7.0   NaN  5.0  7.0  2.0   1.0  \n",
       "2012-11-30  144.0  65.0  13.0  23.0   1.0  3.0  6.0  3.0  19.0  "
      ]
     },
     "execution_count": 576,
     "metadata": {},
     "output_type": "execute_result"
    }
   ],
   "source": [
    "# ratings overview by month\n",
    "dataset.resample('M').rating.value_counts().unstack().sample(5)"
   ]
  },
  {
   "cell_type": "code",
   "execution_count": 577,
   "metadata": {},
   "outputs": [
    {
     "name": "stdout",
     "output_type": "stream",
     "text": [
      "Ratings: 42\n"
     ]
    },
    {
     "data": {
      "text/html": [
       "<div>\n",
       "<style scoped>\n",
       "    .dataframe tbody tr th:only-of-type {\n",
       "        vertical-align: middle;\n",
       "    }\n",
       "\n",
       "    .dataframe tbody tr th {\n",
       "        vertical-align: top;\n",
       "    }\n",
       "\n",
       "    .dataframe thead th {\n",
       "        text-align: right;\n",
       "    }\n",
       "</style>\n",
       "<table border=\"1\" class=\"dataframe\">\n",
       "  <thead>\n",
       "    <tr style=\"text-align: right;\">\n",
       "      <th></th>\n",
       "      <th>source</th>\n",
       "      <th>target</th>\n",
       "      <th>rating</th>\n",
       "    </tr>\n",
       "    <tr>\n",
       "      <th>time</th>\n",
       "      <th></th>\n",
       "      <th></th>\n",
       "      <th></th>\n",
       "    </tr>\n",
       "  </thead>\n",
       "  <tbody>\n",
       "    <tr>\n",
       "      <th>2016-01-07 07:14:48.483810048</th>\n",
       "      <td>5921</td>\n",
       "      <td>5983</td>\n",
       "      <td>1</td>\n",
       "    </tr>\n",
       "    <tr>\n",
       "      <th>2016-01-03 01:49:53.247219968</th>\n",
       "      <td>1396</td>\n",
       "      <td>3345</td>\n",
       "      <td>-1</td>\n",
       "    </tr>\n",
       "    <tr>\n",
       "      <th>2016-01-02 21:33:27.016740096</th>\n",
       "      <td>5449</td>\n",
       "      <td>361</td>\n",
       "      <td>2</td>\n",
       "    </tr>\n",
       "    <tr>\n",
       "      <th>2016-01-11 22:50:38.736679936</th>\n",
       "      <td>1018</td>\n",
       "      <td>2124</td>\n",
       "      <td>5</td>\n",
       "    </tr>\n",
       "    <tr>\n",
       "      <th>2016-01-20 19:13:25.108169984</th>\n",
       "      <td>4608</td>\n",
       "      <td>2045</td>\n",
       "      <td>2</td>\n",
       "    </tr>\n",
       "    <tr>\n",
       "      <th>2016-01-08 18:54:26.507139840</th>\n",
       "      <td>2067</td>\n",
       "      <td>2045</td>\n",
       "      <td>7</td>\n",
       "    </tr>\n",
       "    <tr>\n",
       "      <th>2016-01-13 21:06:28.665509888</th>\n",
       "      <td>361</td>\n",
       "      <td>3804</td>\n",
       "      <td>4</td>\n",
       "    </tr>\n",
       "    <tr>\n",
       "      <th>2016-01-24 23:50:34.034019840</th>\n",
       "      <td>2731</td>\n",
       "      <td>4897</td>\n",
       "      <td>5</td>\n",
       "    </tr>\n",
       "    <tr>\n",
       "      <th>2016-01-07 07:16:51.756460032</th>\n",
       "      <td>5983</td>\n",
       "      <td>5921</td>\n",
       "      <td>1</td>\n",
       "    </tr>\n",
       "    <tr>\n",
       "      <th>2016-01-11 16:40:49.619869952</th>\n",
       "      <td>3714</td>\n",
       "      <td>3837</td>\n",
       "      <td>2</td>\n",
       "    </tr>\n",
       "  </tbody>\n",
       "</table>\n",
       "</div>"
      ],
      "text/plain": [
       "                               source  target  rating\n",
       "time                                                 \n",
       "2016-01-07 07:14:48.483810048    5921    5983       1\n",
       "2016-01-03 01:49:53.247219968    1396    3345      -1\n",
       "2016-01-02 21:33:27.016740096    5449     361       2\n",
       "2016-01-11 22:50:38.736679936    1018    2124       5\n",
       "2016-01-20 19:13:25.108169984    4608    2045       2\n",
       "2016-01-08 18:54:26.507139840    2067    2045       7\n",
       "2016-01-13 21:06:28.665509888     361    3804       4\n",
       "2016-01-24 23:50:34.034019840    2731    4897       5\n",
       "2016-01-07 07:16:51.756460032    5983    5921       1\n",
       "2016-01-11 16:40:49.619869952    3714    3837       2"
      ]
     },
     "execution_count": 577,
     "metadata": {},
     "output_type": "execute_result"
    }
   ],
   "source": [
    "tp1 = dataset.loc['2016']\n",
    "print(f\"Ratings: {len(tp1)}\")\n",
    "tp1.sample(10)"
   ]
  },
  {
   "cell_type": "code",
   "execution_count": 578,
   "metadata": {},
   "outputs": [],
   "source": [
    "G = nx.Graph()\n",
    "for i in tp1.index:\n",
    "  G.add_edge(dataset['source'][i], dataset['target'][i], weight = dataset['rating'][i])"
   ]
  },
  {
   "cell_type": "code",
   "execution_count": 579,
   "metadata": {},
   "outputs": [
    {
     "data": {
      "text/plain": [
       "'Name: \\nType: Graph\\nNumber of nodes: 39\\nNumber of edges: 27\\nAverage degree:   1.3846'"
      ]
     },
     "execution_count": 579,
     "metadata": {},
     "output_type": "execute_result"
    }
   ],
   "source": [
    "nx.info(G)"
   ]
  },
  {
   "cell_type": "code",
   "execution_count": 580,
   "metadata": {},
   "outputs": [
    {
     "data": {
      "text/plain": [
       "False"
      ]
     },
     "execution_count": 580,
     "metadata": {},
     "output_type": "execute_result"
    }
   ],
   "source": [
    "# nx.draw(G)  \n",
    "# plt.draw()\n",
    "nx.is_connected(G)"
   ]
  },
  {
   "cell_type": "code",
   "execution_count": 581,
   "metadata": {},
   "outputs": [
    {
     "name": "stdout",
     "output_type": "stream",
     "text": [
      "target\n",
      "13      2\n",
      "41      1\n",
      "361     2\n",
      "905     2\n",
      "1052    1\n",
      "1128    1\n",
      "1396    1\n",
      "1639    1\n",
      "1731    1\n",
      "1810    3\n",
      "2045    3\n",
      "2067    1\n",
      "2124    1\n",
      "2388    1\n",
      "2731    1\n",
      "3345    1\n",
      "3714    1\n",
      "3804    1\n",
      "3837    1\n",
      "3901    1\n",
      "4296    1\n",
      "4499    1\n",
      "4608    2\n",
      "4897    1\n",
      "5318    1\n",
      "5449    1\n",
      "5655    1\n",
      "5688    1\n",
      "5903    1\n",
      "5921    1\n",
      "5983    2\n",
      "6004    1\n",
      "6005    1\n",
      "Name: rating, dtype: int64\n",
      "target\n",
      "13       2.000000\n",
      "41       2.000000\n",
      "361      3.000000\n",
      "905      1.000000\n",
      "1052     1.000000\n",
      "1128     1.000000\n",
      "1396     1.000000\n",
      "1639     1.000000\n",
      "1731     2.000000\n",
      "1810     3.666667\n",
      "2045     4.666667\n",
      "2067     1.000000\n",
      "2124     5.000000\n",
      "2388     2.000000\n",
      "2731     1.000000\n",
      "3345    -1.000000\n",
      "3714     2.000000\n",
      "3804     4.000000\n",
      "3837     2.000000\n",
      "3901     5.000000\n",
      "4296     1.000000\n",
      "4499     2.000000\n",
      "4608     2.000000\n",
      "4897     5.000000\n",
      "5318     1.000000\n",
      "5449     2.000000\n",
      "5655   -10.000000\n",
      "5688     1.000000\n",
      "5903     1.000000\n",
      "5921     1.000000\n",
      "5983     2.500000\n",
      "6004     1.000000\n",
      "6005     1.000000\n",
      "Name: rating, dtype: float64\n"
     ]
    },
    {
     "data": {
      "image/png": "[encoded data removed]",
      "text/plain": [
       "<Figure size 1008x1008 with 1 Axes>"
      ]
     },
     "metadata": {},
     "output_type": "display_data"
    }
   ],
   "source": [
    "review_counts = tp1.groupby('target').rating.count()\n",
    "average_reviews = tp1.groupby('target').rating.mean()\n",
    "print(review_counts)\n",
    "print(average_reviews)\n",
    "def get_size(user_id, m=20, min=30):\n",
    "    s = review_counts.get(user_id)\n",
    "    if s is not None:\n",
    "        return min * s\n",
    "    else:\n",
    "        return min\n",
    "\n",
    "def get_color(user_id):\n",
    "    s = average_reviews.get(user_id)\n",
    "    if s is None:\n",
    "        return 0.5\n",
    "    # need a scaling function to translate -10-10 to 0.0-1.0 for colors maps\n",
    "    return np.interp(s, (-10, 10), (0, 1))\n",
    "\n",
    "plt.figure(figsize=(14, 14)) \n",
    "plt.title(\"Bitcoin Who-Trusts-Whom Network - 2016\", fontsize=18)\n",
    "\n",
    "untrusted = mpatches.Patch(color='red', label='Average Negative Reputation')\n",
    "trusted = mpatches.Patch(color='green', label='Average Positive Reputation')\n",
    "size = mpatches.Patch(color='black', label='Node Size - Rating Count')\n",
    "edges = mpatches.Patch(color='blue', label='Edge Length - Mistrust of Reviewing Node')\n",
    "plt.legend(handles=[trusted, untrusted, size, edges], loc='lower right')\n",
    "\n",
    "pos = nx.spring_layout(G, k=0.25)\n",
    "sizes = [get_size(n) for n in G]\n",
    "colors = [get_color(n) for n in G]\n",
    "\n",
    "nc = nx.draw_networkx_nodes(\n",
    "    G, pos, nodelist=G.nodes(), node_size=sizes, linewidths=2.0,\n",
    "    node_color=colors, cmap=plt.cm.RdYlGn, alpha=0.8\n",
    ")\n",
    "ec = nx.draw_networkx_edges(G, pos, arrows=True, alpha=0.08)\n",
    "ax = plt.axis('off')\n",
    "plt.show()"
   ]
  },
  {
   "cell_type": "code",
   "execution_count": 582,
   "metadata": {},
   "outputs": [
    {
     "data": {
      "text/plain": [
       "[Text(0, 0, '3'), Text(0, 0, '2'), Text(0, 0, '1')]"
      ]
     },
     "execution_count": 582,
     "metadata": {},
     "output_type": "execute_result"
    },
    {
     "data": {
      "image/png": "[encoded data removed]",
      "text/plain": [
       "<Figure size 432x288 with 1 Axes>"
      ]
     },
     "metadata": {
      "needs_background": "light"
     },
     "output_type": "display_data"
    }
   ],
   "source": [
    "degree_sequence = sorted([d for n, d in G.degree()], reverse=True)  # degree sequence\n",
    "degreeCount = collections.Counter(degree_sequence)\n",
    "deg, cnt = zip(*degreeCount.items())\n",
    "fig, ax = plt.subplots()\n",
    "#plt.figure(figsize = (200, 100))\n",
    "plt.subplots_adjust(left=0, right=5, bottom=0, top=2)\n",
    "plt.bar(deg, cnt, width=0.8, color=\"b\")\n",
    "plt.title(\"Degree Histogram\")\n",
    "plt.ylabel(\"Node count\")\n",
    "plt.xlabel(\"Degree\")\n",
    "ax.set_xticks([d for d in deg])\n",
    "ax.set_xticklabels(deg)"
   ]
  },
  {
   "cell_type": "code",
   "execution_count": 583,
   "metadata": {},
   "outputs": [
    {
     "name": "stdout",
     "output_type": "stream",
     "text": [
      "closeness - fraudulent nodes : [  13   35  361  481  905 1018 1396 1639 1810 2045 2067 4499]\n",
      "degree - fraudulent nodes : [  13   35  361  905 1018 1396 1810 1953 2045 2067 3804 4499]\n",
      "betweeness - fraudulent nodes : [  13   35  361  905 1018 1396 1810 1953 2045 2067 3804 4499]\n",
      "pagerank - fraudulent nodes : [  35  361  481 1018 1052 1731 1810 1953 2045 2067 2124 2388 3714 3837]\n"
     ]
    }
   ],
   "source": [
    "l = []\n",
    "for i in dataset.index:\n",
    "    if(dataset['rating'][i]<0):\n",
    "        l.append(dataset['source'][i])\n",
    "#print(l)  \n",
    "\n",
    "x = nx.closeness_centrality(G)\n",
    "import operator\n",
    "sorted_x = sorted(x.items(), key=operator.itemgetter(1))\n",
    "common=[]\n",
    "closeness=[]\n",
    "for i in sorted_x[-20:]:\n",
    "    closeness.append(i[0])\n",
    "#print(closeness)    \n",
    "for k in closeness:\n",
    "    for j in l:      \n",
    "        if k==j:\n",
    "            common.append(j)          \n",
    "print(\"closeness - fraudulent nodes :\" , np.unique(common))      \n",
    "\n",
    "y = nx.degree_centrality(G)\n",
    "import operator\n",
    "sorted_y = sorted(y.items(), key=operator.itemgetter(1))\n",
    "common=[]\n",
    "closeness=[]\n",
    "for i in sorted_y[-20:]:\n",
    "    closeness.append(i[0])\n",
    "for k in closeness:\n",
    "    for j in l:      \n",
    "        if k==j:\n",
    "            common.append(j)          \n",
    "print(\"degree - fraudulent nodes :\" , np.unique(common)) \n",
    "\n",
    "z = nx.betweenness_centrality(G)\n",
    "import operator\n",
    "sorted_z = sorted(z.items(), key=operator.itemgetter(1))\n",
    "common=[]\n",
    "closeness=[]\n",
    "for i in sorted_z[-20:]:\n",
    "    closeness.append(i[0])\n",
    "for k in closeness:\n",
    "    for j in l:      \n",
    "        if k==j:\n",
    "            common.append(j)          \n",
    "print(\"betweeness - fraudulent nodes :\" , np.unique(common)) \n",
    "\n",
    "a = nx.pagerank(G,max_iter=10000)\n",
    "import operator\n",
    "sorted_a = sorted(a.items(), key=operator.itemgetter(1))\n",
    "common=[]\n",
    "closeness=[]\n",
    "for i in sorted_a[-20:]:\n",
    "    closeness.append(i[0])\n",
    "for k in closeness:\n",
    "    for j in l:      \n",
    "        if k==j:\n",
    "            common.append(j)          \n",
    "print(\"pagerank - fraudulent nodes :\" , np.unique(common)) \n"
   ]
  },
  {
   "cell_type": "code",
   "execution_count": 584,
   "metadata": {},
   "outputs": [],
   "source": [
    "# y = nx.degree_centrality(G)\n",
    "# import operator\n",
    "# sorted_y = sorted(y.items(), key=operator.itemgetter(1))\n",
    "# print(sorted_y[-20:])"
   ]
  },
  {
   "cell_type": "code",
   "execution_count": null,
   "metadata": {},
   "outputs": [],
   "source": [
    "# z = nx.betweenness_centrality(G)\n",
    "# import operator\n",
    "# sorted_z = sorted(z.items(), key=operator.itemgetter(1))\n",
    "# print(sorted_z[-20:])"
   ]
  },
  {
   "cell_type": "code",
   "execution_count": null,
   "metadata": {},
   "outputs": [],
   "source": [
    "# a = nx.pagerank(G,max_iter=10000)\n",
    "# import operator\n",
    "# sorted_a = sorted(a.items(), key=operator.itemgetter(1))\n",
    "# print(sorted_a[-20:])"
   ]
  },
  {
   "cell_type": "code",
   "execution_count": null,
   "metadata": {},
   "outputs": [],
   "source": [
    "# l = []\n",
    "# for i in dataset.index:\n",
    "#     if(dataset['rating'][i]<0):\n",
    "#         l.append(dataset['source'][i])\n",
    "# print(l)        \n"
   ]
  },
  {
   "cell_type": "code",
   "execution_count": null,
   "metadata": {},
   "outputs": [],
   "source": [
    "# common=[]\n",
    "# for i in sorted_x[-20:]:\n",
    "#     for j in l:\n",
    "#         if i==j:\n",
    "#             common.append(j)\n",
    "# print(common)            "
   ]
  },
  {
   "cell_type": "code",
   "execution_count": null,
   "metadata": {},
   "outputs": [],
   "source": []
  }
 ],
 "metadata": {
  "kernelspec": {
   "display_name": "Python 3",
   "language": "python",
   "name": "python3"
  },
  "language_info": {
   "codemirror_mode": {
    "name": "ipython",
    "version": 3
   },
   "file_extension": ".py",
   "mimetype": "text/x-python",
   "name": "python",
   "nbconvert_exporter": "python",
   "pygments_lexer": "ipython3",
   "version": "3.8.0"
  }
 },
 "nbformat": 4,
 "nbformat_minor": 4
}
